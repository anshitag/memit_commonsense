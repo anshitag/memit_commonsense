{
 "cells": [
  {
   "cell_type": "code",
   "execution_count": 16,
   "id": "285d508a",
   "metadata": {},
   "outputs": [],
   "source": [
    "import json"
   ]
  },
  {
   "cell_type": "code",
   "execution_count": 17,
   "id": "41c6e4b1",
   "metadata": {},
   "outputs": [],
   "source": [
    "with open('result/outputs/firm-sweep-16_gpt2-xl_pep3k_normal.json', 'r') as xl_file:\n",
    "    xl = json.load(xl_file)\n",
    "\n",
    "with open(\"result/outputs/easy-sweep-7_gpt2-large_pep3k_normal.json\", 'r') as l_file:\n",
    "    l = json.load(l_file)"
   ]
  },
  {
   "cell_type": "code",
   "execution_count": 18,
   "id": "d0a4f32c",
   "metadata": {},
   "outputs": [
    {
     "data": {
      "text/plain": [
       "(1531, 1531)"
      ]
     },
     "execution_count": 18,
     "metadata": {},
     "output_type": "execute_result"
    }
   ],
   "source": [
    "len(l), len(xl)"
   ]
  },
  {
   "cell_type": "code",
   "execution_count": 19,
   "id": "61c92959",
   "metadata": {},
   "outputs": [],
   "source": [
    "xl_count = 0\n",
    "l_count = 0\n",
    "incorrect = []\n",
    "\n",
    "for i in range(len(xl)):\n",
    "    xl_wrong = True if xl[i]['label'] != xl[i]['predicted_label'] else False\n",
    "    xl_count += 1 if xl_wrong else 0\n",
    "    l_wrong = True if l[i]['label'] != l[i]['predicted_label'] else False\n",
    "    l_count += 1 if l_wrong else 0\n",
    "    \n",
    "    if xl_wrong or l_wrong:\n",
    "        incorrect.append({'prompt':xl[i]['prompt'], 'id':i, 'xl_wrong':xl_wrong, 'l_wrong':l_wrong})"
   ]
  },
  {
   "cell_type": "code",
   "execution_count": 20,
   "id": "926e139e",
   "metadata": {},
   "outputs": [
    {
     "data": {
      "text/plain": [
       "605"
      ]
     },
     "execution_count": 20,
     "metadata": {},
     "output_type": "execute_result"
    }
   ],
   "source": [
    "len(incorrect)"
   ]
  },
  {
   "cell_type": "code",
   "execution_count": 21,
   "id": "f802554a",
   "metadata": {},
   "outputs": [
    {
     "data": {
      "text/plain": [
       "{'prompt': 'Camel rides bike', 'id': 2, 'xl_wrong': False, 'l_wrong': True}"
      ]
     },
     "execution_count": 21,
     "metadata": {},
     "output_type": "execute_result"
    }
   ],
   "source": [
    "incorrect[0]"
   ]
  },
  {
   "cell_type": "code",
   "execution_count": 22,
   "id": "7b583f71",
   "metadata": {},
   "outputs": [
    {
     "data": {
      "text/plain": [
       "(433, 501)"
      ]
     },
     "execution_count": 22,
     "metadata": {},
     "output_type": "execute_result"
    }
   ],
   "source": [
    "xl_count, l_count"
   ]
  },
  {
   "cell_type": "code",
   "execution_count": 23,
   "id": "a4a3b953",
   "metadata": {},
   "outputs": [],
   "source": [
    "with open('gpt2-large_xl_pep3k_incorrect.json', 'w') as incorrect_file:\n",
    "    json.dump(incorrect, incorrect_file, indent=4)"
   ]
  },
  {
   "cell_type": "code",
   "execution_count": null,
   "id": "d10b1d2c",
   "metadata": {},
   "outputs": [],
   "source": []
  }
 ],
 "metadata": {
  "kernelspec": {
   "display_name": "Python (miniconda3-memit_bak)",
   "language": "python",
   "name": "conda-env-miniconda3-memit_bak-py"
  },
  "language_info": {
   "codemirror_mode": {
    "name": "ipython",
    "version": 3
   },
   "file_extension": ".py",
   "mimetype": "text/x-python",
   "name": "python",
   "nbconvert_exporter": "python",
   "pygments_lexer": "ipython3",
   "version": "3.9.7"
  }
 },
 "nbformat": 4,
 "nbformat_minor": 5
}
